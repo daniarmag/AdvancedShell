{
  "cells": [
    {
      "cell_type": "markdown",
      "metadata": {
        "id": "view-in-github",
        "colab_type": "text"
      },
      "source": [
        "<a href=\"https://colab.research.google.com/github/daniarmag/AdvancedShell/blob/main/Project/index_.ipynb\" target=\"_parent\"><img src=\"https://colab.research.google.com/assets/colab-badge.svg\" alt=\"Open In Colab\"/></a>"
      ]
    },
    {
      "cell_type": "code",
      "execution_count": 1,
      "metadata": {
        "id": "Qu-nszRXeyxQ",
        "colab": {
          "base_uri": "https://localhost:8080/"
        },
        "outputId": "39eafa2b-40c8-4a5e-d2ec-54361a8a5af5"
      },
      "outputs": [
        {
          "output_type": "stream",
          "name": "stdout",
          "text": [
            "Requirement already satisfied: requests in /usr/local/lib/python3.10/dist-packages (2.31.0)\n",
            "Requirement already satisfied: beautifulsoup4 in /usr/local/lib/python3.10/dist-packages (4.12.3)\n",
            "Requirement already satisfied: charset-normalizer<4,>=2 in /usr/local/lib/python3.10/dist-packages (from requests) (3.3.2)\n",
            "Requirement already satisfied: idna<4,>=2.5 in /usr/local/lib/python3.10/dist-packages (from requests) (3.6)\n",
            "Requirement already satisfied: urllib3<3,>=1.21.1 in /usr/local/lib/python3.10/dist-packages (from requests) (2.0.7)\n",
            "Requirement already satisfied: certifi>=2017.4.17 in /usr/local/lib/python3.10/dist-packages (from requests) (2024.2.2)\n",
            "Requirement already satisfied: soupsieve>1.2 in /usr/local/lib/python3.10/dist-packages (from beautifulsoup4) (2.5)\n",
            "Collecting firebase\n",
            "  Downloading firebase-4.0.1-py3-none-any.whl (12 kB)\n",
            "Requirement already satisfied: requests in /usr/local/lib/python3.10/dist-packages (from firebase) (2.31.0)\n",
            "Requirement already satisfied: charset-normalizer<4,>=2 in /usr/local/lib/python3.10/dist-packages (from requests->firebase) (3.3.2)\n",
            "Requirement already satisfied: idna<4,>=2.5 in /usr/local/lib/python3.10/dist-packages (from requests->firebase) (3.6)\n",
            "Requirement already satisfied: urllib3<3,>=1.21.1 in /usr/local/lib/python3.10/dist-packages (from requests->firebase) (2.0.7)\n",
            "Requirement already satisfied: certifi>=2017.4.17 in /usr/local/lib/python3.10/dist-packages (from requests->firebase) (2024.2.2)\n",
            "Installing collected packages: firebase\n",
            "Successfully installed firebase-4.0.1\n",
            "Requirement already satisfied: firebase-admin in /usr/local/lib/python3.10/dist-packages (5.3.0)\n",
            "Requirement already satisfied: cachecontrol>=0.12.6 in /usr/local/lib/python3.10/dist-packages (from firebase-admin) (0.14.0)\n",
            "Requirement already satisfied: google-api-python-client>=1.7.8 in /usr/local/lib/python3.10/dist-packages (from firebase-admin) (2.84.0)\n",
            "Requirement already satisfied: google-cloud-storage>=1.37.1 in /usr/local/lib/python3.10/dist-packages (from firebase-admin) (2.8.0)\n",
            "Requirement already satisfied: google-api-core[grpc]<3.0.0dev,>=1.22.1 in /usr/local/lib/python3.10/dist-packages (from firebase-admin) (2.11.1)\n",
            "Requirement already satisfied: google-cloud-firestore>=2.1.0 in /usr/local/lib/python3.10/dist-packages (from firebase-admin) (2.11.1)\n",
            "Requirement already satisfied: requests>=2.16.0 in /usr/local/lib/python3.10/dist-packages (from cachecontrol>=0.12.6->firebase-admin) (2.31.0)\n",
            "Requirement already satisfied: msgpack<2.0.0,>=0.5.2 in /usr/local/lib/python3.10/dist-packages (from cachecontrol>=0.12.6->firebase-admin) (1.0.8)\n",
            "Requirement already satisfied: googleapis-common-protos<2.0.dev0,>=1.56.2 in /usr/local/lib/python3.10/dist-packages (from google-api-core[grpc]<3.0.0dev,>=1.22.1->firebase-admin) (1.63.0)\n",
            "Requirement already satisfied: protobuf!=3.20.0,!=3.20.1,!=4.21.0,!=4.21.1,!=4.21.2,!=4.21.3,!=4.21.4,!=4.21.5,<5.0.0.dev0,>=3.19.5 in /usr/local/lib/python3.10/dist-packages (from google-api-core[grpc]<3.0.0dev,>=1.22.1->firebase-admin) (3.20.3)\n",
            "Requirement already satisfied: google-auth<3.0.dev0,>=2.14.1 in /usr/local/lib/python3.10/dist-packages (from google-api-core[grpc]<3.0.0dev,>=1.22.1->firebase-admin) (2.27.0)\n",
            "Requirement already satisfied: grpcio<2.0dev,>=1.33.2 in /usr/local/lib/python3.10/dist-packages (from google-api-core[grpc]<3.0.0dev,>=1.22.1->firebase-admin) (1.62.1)\n",
            "Requirement already satisfied: grpcio-status<2.0.dev0,>=1.33.2 in /usr/local/lib/python3.10/dist-packages (from google-api-core[grpc]<3.0.0dev,>=1.22.1->firebase-admin) (1.48.2)\n",
            "Requirement already satisfied: httplib2<1dev,>=0.15.0 in /usr/local/lib/python3.10/dist-packages (from google-api-python-client>=1.7.8->firebase-admin) (0.22.0)\n",
            "Requirement already satisfied: google-auth-httplib2>=0.1.0 in /usr/local/lib/python3.10/dist-packages (from google-api-python-client>=1.7.8->firebase-admin) (0.1.1)\n",
            "Requirement already satisfied: uritemplate<5,>=3.0.1 in /usr/local/lib/python3.10/dist-packages (from google-api-python-client>=1.7.8->firebase-admin) (4.1.1)\n",
            "Requirement already satisfied: google-cloud-core<3.0.0dev,>=1.4.1 in /usr/local/lib/python3.10/dist-packages (from google-cloud-firestore>=2.1.0->firebase-admin) (2.3.3)\n",
            "Requirement already satisfied: proto-plus<2.0.0dev,>=1.22.0 in /usr/local/lib/python3.10/dist-packages (from google-cloud-firestore>=2.1.0->firebase-admin) (1.23.0)\n",
            "Requirement already satisfied: google-resumable-media>=2.3.2 in /usr/local/lib/python3.10/dist-packages (from google-cloud-storage>=1.37.1->firebase-admin) (2.7.0)\n",
            "Requirement already satisfied: cachetools<6.0,>=2.0.0 in /usr/local/lib/python3.10/dist-packages (from google-auth<3.0.dev0,>=2.14.1->google-api-core[grpc]<3.0.0dev,>=1.22.1->firebase-admin) (5.3.3)\n",
            "Requirement already satisfied: pyasn1-modules>=0.2.1 in /usr/local/lib/python3.10/dist-packages (from google-auth<3.0.dev0,>=2.14.1->google-api-core[grpc]<3.0.0dev,>=1.22.1->firebase-admin) (0.3.0)\n",
            "Requirement already satisfied: rsa<5,>=3.1.4 in /usr/local/lib/python3.10/dist-packages (from google-auth<3.0.dev0,>=2.14.1->google-api-core[grpc]<3.0.0dev,>=1.22.1->firebase-admin) (4.9)\n",
            "Requirement already satisfied: google-crc32c<2.0dev,>=1.0 in /usr/local/lib/python3.10/dist-packages (from google-resumable-media>=2.3.2->google-cloud-storage>=1.37.1->firebase-admin) (1.5.0)\n",
            "Requirement already satisfied: pyparsing!=3.0.0,!=3.0.1,!=3.0.2,!=3.0.3,<4,>=2.4.2 in /usr/local/lib/python3.10/dist-packages (from httplib2<1dev,>=0.15.0->google-api-python-client>=1.7.8->firebase-admin) (3.1.2)\n",
            "Requirement already satisfied: charset-normalizer<4,>=2 in /usr/local/lib/python3.10/dist-packages (from requests>=2.16.0->cachecontrol>=0.12.6->firebase-admin) (3.3.2)\n",
            "Requirement already satisfied: idna<4,>=2.5 in /usr/local/lib/python3.10/dist-packages (from requests>=2.16.0->cachecontrol>=0.12.6->firebase-admin) (3.6)\n",
            "Requirement already satisfied: urllib3<3,>=1.21.1 in /usr/local/lib/python3.10/dist-packages (from requests>=2.16.0->cachecontrol>=0.12.6->firebase-admin) (2.0.7)\n",
            "Requirement already satisfied: certifi>=2017.4.17 in /usr/local/lib/python3.10/dist-packages (from requests>=2.16.0->cachecontrol>=0.12.6->firebase-admin) (2024.2.2)\n",
            "Requirement already satisfied: pyasn1<0.6.0,>=0.4.6 in /usr/local/lib/python3.10/dist-packages (from pyasn1-modules>=0.2.1->google-auth<3.0.dev0,>=2.14.1->google-api-core[grpc]<3.0.0dev,>=1.22.1->firebase-admin) (0.5.1)\n"
          ]
        }
      ],
      "source": [
        "!pip install requests beautifulsoup4\n",
        "!pip install firebase\n",
        "!pip install firebase-admin"
      ]
    },
    {
      "cell_type": "code",
      "source": [
        "from nltk.stem import PorterStemmer\n",
        "from bs4 import BeautifulSoup\n",
        "from collections import defaultdict\n",
        "from firebase_admin import credentials\n",
        "from firebase_admin import firestore\n",
        "import firebase_admin\n",
        "import requests\n",
        "import re\n",
        "import json\n",
        "import os"
      ],
      "metadata": {
        "id": "fyPfzgti9aB2"
      },
      "execution_count": 2,
      "outputs": []
    },
    {
      "cell_type": "code",
      "execution_count": 3,
      "metadata": {
        "id": "pMW9CHqNe4eZ"
      },
      "outputs": [],
      "source": [
        "# Function to extract text from a webpage\n",
        "def get_page_text(url):\n",
        "    try:\n",
        "        response = requests.get(url)\n",
        "        soup = BeautifulSoup(response.text, 'html.parser')\n",
        "        return soup.get_text()\n",
        "    except Exception as e:\n",
        "        return \"\""
      ]
    },
    {
      "cell_type": "code",
      "source": [
        "# Function to extract links from a webpage\n",
        "def get_links(url):\n",
        "    try:\n",
        "        response = requests.get(url)\n",
        "        soup = BeautifulSoup(response.text, 'html.parser')\n",
        "        links = [link.get('href') for link in soup.find_all('a', href=True)]\n",
        "        return links\n",
        "    except Exception as e:\n",
        "        print(\"Error:\", e)\n",
        "        return []"
      ],
      "metadata": {
        "id": "t7M-PSVLZbNF"
      },
      "execution_count": 4,
      "outputs": []
    },
    {
      "cell_type": "code",
      "execution_count": 5,
      "metadata": {
        "id": "rn3hNM37pgNk"
      },
      "outputs": [],
      "source": [
        "def remove_stop_words(text):\n",
        "  stop_words = {'a','as','ha','thi','an', 'the', 'and', 'is', 'are', 'or', 'in', 'on', 'at','skip','-','them','they','than','she',',','.','&','for','what'}\n",
        "  words = [word for word in text if word.lower() not in stop_words]\n",
        "  return words"
      ]
    },
    {
      "cell_type": "code",
      "execution_count": 6,
      "metadata": {
        "id": "L2vktA22phqW"
      },
      "outputs": [],
      "source": [
        "def trim_words(words):\n",
        "    cleaned_words = [word.rstrip(\",.\\\\/\") for word in words]\n",
        "    return cleaned_words"
      ]
    },
    {
      "cell_type": "code",
      "execution_count": 7,
      "metadata": {
        "id": "veWH8BZgpk8l"
      },
      "outputs": [],
      "source": [
        "def apply_stemming(words):\n",
        "    stemmer = PorterStemmer()\n",
        "    stemmed_words = [stemmer.stem(word) for word in words]\n",
        "    return stemmed_words"
      ]
    },
    {
      "cell_type": "code",
      "execution_count": 8,
      "metadata": {
        "id": "sbxUcYpEn2bl"
      },
      "outputs": [],
      "source": [
        "# Function to create index database\n",
        "def create_index(url):\n",
        "    index = defaultdict(list)\n",
        "    visited = set()\n",
        "    queue = [url]\n",
        "    loop = 0\n",
        "    while queue and loop < 40:\n",
        "        loop+=1\n",
        "        current_url = queue.pop(0)\n",
        "        if current_url in visited:\n",
        "            continue\n",
        "\n",
        "        visited.add(current_url)\n",
        "        text = get_page_text(current_url)\n",
        "        words = remove_stop_words(text.split())\n",
        "        words = trim_words(words)\n",
        "        words = apply_stemming(words)\n",
        "\n",
        "        for word in words:\n",
        "            index[word].append(current_url)\n",
        "\n",
        "        links = get_links(current_url)\n",
        "        for link in links:\n",
        "            if link.startswith(url) and link not in visited:\n",
        "                queue.append(link)\n",
        "    return index"
      ]
    },
    {
      "cell_type": "code",
      "source": [
        "def update_dict(word, link):\n",
        "    global link_ids\n",
        "    if link not in link_ids:\n",
        "        link_ids[link] = len(link_ids) + 1\n",
        "    link_id = link_ids[link]\n",
        "    if link not in index[word]:\n",
        "        index[word][link] = {'id': link_id, 'counter': 0}\n",
        "    index[word][link]['counter'] += 1"
      ],
      "metadata": {
        "id": "PB0kfsUP5gs4"
      },
      "execution_count": 9,
      "outputs": []
    },
    {
      "cell_type": "code",
      "execution_count": 10,
      "metadata": {
        "id": "btytvwAQe3NN"
      },
      "outputs": [],
      "source": [
        "def create_ranked_words(index):\n",
        "    sorted_dict = {}\n",
        "    counter_for_each_word = 0\n",
        "    for word, links in index.items():\n",
        "        for link in links.keys():\n",
        "            counter_for_each_word += index[word][link]['counter']\n",
        "        sorted_dict[word] = counter_for_each_word\n",
        "        counter_for_each_word = 0\n",
        "    sorted_dict = {k: v for k, v in sorted(sorted_dict.items(), key=lambda item: item[1], reverse=True)}\n",
        "    ranked_dict = {}\n",
        "    rank = 1\n",
        "    for word, counter in sorted_dict.items():\n",
        "        ranked_dict[word] = {'rank': rank, 'counter': counter}\n",
        "        rank += 1\n",
        "    return ranked_dict"
      ]
    },
    {
      "cell_type": "code",
      "execution_count": 11,
      "metadata": {
        "id": "3xis_RWStxOu"
      },
      "outputs": [],
      "source": [
        "def create_data_for_db(final_index):\n",
        "    data_list = []\n",
        "    for word, doc_ids in final_index.items():\n",
        "        term_data = {\n",
        "            'term': word,\n",
        "            'DocId': doc_ids\n",
        "        }\n",
        "        data_list.append(term_data)\n",
        "    return data_list"
      ]
    },
    {
      "cell_type": "code",
      "source": [
        "def generate_json_file(data_list, is_desktop):\n",
        "    if is_desktop:\n",
        "      filepath = os.path.join(os.path.dirname(os.path.abspath(__file__)), \"indexDb.json\")\n",
        "    else:\n",
        "      filepath = \"/content/drive/My Drive/CloudComputing/project/indexDb.json\"\n",
        "    with open(filepath, \"w\") as json_file:\n",
        "        json.dump(data_list, json_file, indent = 2)"
      ],
      "metadata": {
        "id": "izeILoTI5tCA"
      },
      "execution_count": 12,
      "outputs": []
    },
    {
      "cell_type": "code",
      "source": [
        "def print_collection_from_db(db, collection_name):\n",
        "    collection_ref = db.collection(collection_name)\n",
        "    docs = collection_ref.get()\n",
        "    i = 0\n",
        "    for doc in docs:\n",
        "        term = doc.to_dict()['term']\n",
        "        print(f\"{i} -- Document ID: {doc.id}, Data: {term}\")\n",
        "        i += 1"
      ],
      "metadata": {
        "id": "WV_K6sn95xK1"
      },
      "execution_count": 13,
      "outputs": []
    },
    {
      "cell_type": "code",
      "source": [
        "def upload_to_db(db, collection_name):\n",
        "  try:\n",
        "    for data in data_list:\n",
        "        doc_ref = db.collection(collection_name).add(data)\n",
        "    print(\"All documents uploaded successfully.\")\n",
        "  except Exception as e:\n",
        "      print(\"Error:\", e)"
      ],
      "metadata": {
        "id": "xaHHTntkxRUl"
      },
      "execution_count": 14,
      "outputs": []
    }
  ],
  "metadata": {
    "colab": {
      "provenance": [],
      "include_colab_link": true
    },
    "kernelspec": {
      "display_name": "Python 3",
      "name": "python3"
    },
    "language_info": {
      "name": "python"
    }
  },
  "nbformat": 4,
  "nbformat_minor": 0
}